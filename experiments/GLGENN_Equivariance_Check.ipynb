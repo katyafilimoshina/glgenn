{
  "cells": [
    {
      "cell_type": "markdown",
      "metadata": {
        "id": "88_l2rIOMxXr"
      },
      "source": [
        "# Equivariance check | Generalized Lipschitz Group Equivariant Neural Networks (GLGENN)"
      ]
    },
    {
      "cell_type": "markdown",
      "metadata": {
        "id": "Dr2jGBUpV4XD"
      },
      "source": [
        "## Imports and installs"
      ]
    },
    {
      "cell_type": "code",
      "execution_count": 48,
      "metadata": {
        "id": "Qd4AzikdV8K6"
      },
      "outputs": [],
      "source": [
        "import os\n",
        "import torch\n",
        "torch.set_default_dtype(torch.float64)\n",
        "import json\n",
        "import torch.nn.functional as F\n",
        "from torch import nn\n",
        "import matplotlib.pyplot as plt"
      ]
    },
    {
      "cell_type": "code",
      "execution_count": 49,
      "metadata": {
        "colab": {
          "base_uri": "https://localhost:8080/"
        },
        "id": "SJYxL89eVxEy",
        "outputId": "a8127abc-377a-4225-b194-b97ac8e60d7e"
      },
      "outputs": [
        {
          "name": "stdout",
          "output_type": "stream",
          "text": [
            "remote: Enumerating objects: 9, done.\u001b[K\n",
            "remote: Counting objects:  11% (1/9)\u001b[K\rremote: Counting objects:  22% (2/9)\u001b[K\rremote: Counting objects:  33% (3/9)\u001b[K\rremote: Counting objects:  44% (4/9)\u001b[K\rremote: Counting objects:  55% (5/9)\u001b[K\rremote: Counting objects:  66% (6/9)\u001b[K\rremote: Counting objects:  77% (7/9)\u001b[K\rremote: Counting objects:  88% (8/9)\u001b[K\rremote: Counting objects: 100% (9/9)\u001b[K\rremote: Counting objects: 100% (9/9), done.\u001b[K\n",
            "remote: Compressing objects:  16% (1/6)\u001b[K\rremote: Compressing objects:  33% (2/6)\u001b[K\rremote: Compressing objects:  50% (3/6)\u001b[K\rremote: Compressing objects:  66% (4/6)\u001b[K\rremote: Compressing objects:  83% (5/6)\u001b[K\rremote: Compressing objects: 100% (6/6)\u001b[K\rremote: Compressing objects: 100% (6/6), done.\u001b[K\n",
            "Unpacking objects:  12% (1/8)\rUnpacking objects:  25% (2/8)\rUnpacking objects:  37% (3/8)\rUnpacking objects:  50% (4/8)\rUnpacking objects:  62% (5/8)\rremote: Total 8 (delta 3), reused 7 (delta 2), pack-reused 0\u001b[K\n",
            "Unpacking objects:  75% (6/8)\rUnpacking objects:  87% (7/8)\rUnpacking objects: 100% (8/8)\rUnpacking objects: 100% (8/8), 19.77 KiB | 289.00 KiB/s, done.\n",
            "From https://github.com/katyafilimoshina/glgenn\n",
            " * branch            main       -> FETCH_HEAD\n",
            "   09d85fe..f2fafe9  main       -> origin/main\n",
            "Updating 09d85fe..f2fafe9\n",
            "Fast-forward\n",
            " experiments/GLGENN_Equivariance_Check.ipynb | 438 \u001b[32m++++++++++++++++++++++++++++++++++++++++++++++++\u001b[m\n",
            " 1 file changed, 438 insertions(+)\n",
            " create mode 100644 experiments/GLGENN_Equivariance_Check.ipynb\n"
          ]
        }
      ],
      "source": [
        "os.chdir('/')\n",
        "if not os.path.exists(\"/glgenn\"):\n",
        "    !git clone https://github.com/katyafilimoshina/glgenn\n",
        "else:\n",
        "    os.chdir(\"/glgenn\")\n",
        "    !git pull origin main\n",
        "\n",
        "# os.chdir(\"/glgenn\")"
      ]
    },
    {
      "cell_type": "code",
      "execution_count": 50,
      "metadata": {
        "id": "lMDGEvOm1iJ6"
      },
      "outputs": [],
      "source": [
        "from glgenn.layers.qtlinear import QTLinear\n",
        "from glgenn.layers.qtgp import QTGeometricProduct\n",
        "from glgenn.layers.qtnorm import QTNormalization\n",
        "from glgenn.algebra.cliffordalgebraex import CliffordAlgebraQT"
      ]
    },
    {
      "cell_type": "markdown",
      "metadata": {
        "id": "vTrkMXOONtiL"
      },
      "source": [
        "## Data generation"
      ]
    },
    {
      "cell_type": "code",
      "execution_count": 61,
      "metadata": {
        "id": "SpwzDAjDMb17"
      },
      "outputs": [],
      "source": [
        "h = torch.randn(1, 8, 1) # 8 scalars, batch_size=1\n",
        "x = torch.randn(1, 8, 3) # 8 vectors with 3 coordinates, batch_size=1"
      ]
    },
    {
      "cell_type": "code",
      "execution_count": 62,
      "metadata": {
        "id": "rpDxX9YIOED3"
      },
      "outputs": [],
      "source": [
        "algebra = CliffordAlgebraQT((1.,) * 3)"
      ]
    },
    {
      "cell_type": "code",
      "execution_count": 63,
      "metadata": {
        "id": "DqH7fXJuOI5c"
      },
      "outputs": [],
      "source": [
        "h_cl = algebra.embed_grade(h, 0)\n",
        "x_cl = algebra.embed_grade(x, 1)\n",
        "\n",
        "input = torch.cat([h_cl, x_cl], dim=1)"
      ]
    },
    {
      "cell_type": "markdown",
      "metadata": {
        "id": "CGFy4-e4ORsO"
      },
      "source": [
        "## Define orthogonal transformations"
      ]
    },
    {
      "cell_type": "code",
      "execution_count": 64,
      "metadata": {
        "id": "R9Oa0_YcOU9y"
      },
      "outputs": [],
      "source": [
        "# Reflector\n",
        "v = algebra.versor(1)\n",
        "\n",
        "# Rotor\n",
        "R = algebra.versor(2)"
      ]
    },
    {
      "cell_type": "code",
      "execution_count": 65,
      "metadata": {
        "id": "y8LkqIYLOacL"
      },
      "outputs": [],
      "source": [
        "input_v = algebra.rho(v, input.clone()) # reflected data\n",
        "input_R = algebra.rho(R, input.clone()) # rotated data"
      ]
    },
    {
      "cell_type": "code",
      "execution_count": 66,
      "metadata": {
        "id": "jiswH5e7OeIA"
      },
      "outputs": [],
      "source": [
        "# check that transformations are orthogonal\n",
        "\n",
        "assert torch.allclose(algebra.norm(input_v), algebra.norm(input))\n",
        "assert torch.allclose(algebra.norm(input_R), algebra.norm(input))"
      ]
    },
    {
      "cell_type": "markdown",
      "metadata": {
        "id": "F2Dqv-xPPczb"
      },
      "source": [
        "## Define GLGENN layers"
      ]
    },
    {
      "cell_type": "code",
      "execution_count": 67,
      "metadata": {
        "id": "8-AEY6q3Ph0Y"
      },
      "outputs": [],
      "source": [
        "qt_gp = QTGeometricProduct(algebra, 16)\n",
        "qt_linear = QTLinear(algebra, 16, 16)\n",
        "qt_norm = QTNormalization(algebra, 16)"
      ]
    },
    {
      "cell_type": "markdown",
      "metadata": {
        "id": "BJ_xk6oFQThm"
      },
      "source": [
        "## Equivariance check"
      ]
    },
    {
      "cell_type": "markdown",
      "metadata": {
        "id": "d3HhRfzqQV3J"
      },
      "source": [
        "Check equivariance of `QTGeometricProduct` layer:"
      ]
    },
    {
      "cell_type": "code",
      "execution_count": 68,
      "metadata": {
        "id": "8pXJi6yOQXjD"
      },
      "outputs": [],
      "source": [
        "output = qt_gp(input)\n",
        "output_v = qt_gp(input_v)\n",
        "output_R = qt_gp(input_R)\n",
        "\n",
        "assert torch.allclose(algebra.rho(v, output), output_v)\n",
        "assert torch.allclose(algebra.rho(R, output), output_R)"
      ]
    },
    {
      "cell_type": "code",
      "execution_count": 69,
      "metadata": {
        "colab": {
          "base_uri": "https://localhost:8080/"
        },
        "id": "X12BrLKaa_nw",
        "outputId": "ac05067e-1904-4d26-f353-fed316bd5812"
      },
      "outputs": [
        {
          "data": {
            "text/plain": [
              "(tensor([[[-9.9657e-02,  8.8615e-02,  4.2689e-02,  6.4706e-02, -6.9389e-18,\n",
              "            0.0000e+00, -3.4694e-18,  0.0000e+00],\n",
              "          [ 9.4359e-02, -3.8074e-02,  5.5783e-02, -5.5045e-02,  0.0000e+00,\n",
              "            1.7347e-18,  0.0000e+00,  0.0000e+00],\n",
              "          [-3.0863e-01, -1.2045e-01,  1.0775e-01,  2.2763e-01,  0.0000e+00,\n",
              "            0.0000e+00,  0.0000e+00,  1.3878e-17],\n",
              "          [-1.0193e-01,  3.4161e-01, -1.7653e-02,  9.6752e-01,  0.0000e+00,\n",
              "            0.0000e+00,  0.0000e+00,  0.0000e+00],\n",
              "          [ 3.1633e-01, -8.6709e-02, -7.9784e-03,  3.7707e-02, -1.3878e-17,\n",
              "            0.0000e+00,  0.0000e+00, -1.0842e-18],\n",
              "          [ 1.8632e-03,  7.3516e-02,  1.5043e-01, -5.7786e-01,  0.0000e+00,\n",
              "            2.7105e-20,  5.4210e-20,  0.0000e+00],\n",
              "          [ 1.1876e+00,  8.5845e-03, -1.3210e-01, -5.9127e-02,  0.0000e+00,\n",
              "            0.0000e+00,  0.0000e+00,  3.4694e-18],\n",
              "          [-1.8567e+00, -3.8080e-01,  6.0721e-02, -2.6701e-01,  0.0000e+00,\n",
              "            0.0000e+00,  0.0000e+00,  2.7756e-17],\n",
              "          [ 1.3894e-01, -3.5404e-02, -3.1898e-02, -5.1950e-02,  6.8364e-02,\n",
              "            5.3259e-02, -5.2329e-02,  0.0000e+00],\n",
              "          [-1.9255e-02, -7.7433e-02,  6.6369e-01, -3.1104e-01,  2.4221e-01,\n",
              "           -4.5088e-02, -5.8646e-01,  2.7756e-17],\n",
              "          [-2.5806e-01,  8.4445e-02, -5.8037e-02, -4.3429e-01, -4.7940e-02,\n",
              "            5.8237e-02, -2.8657e-01,  2.7756e-17],\n",
              "          [-4.9905e-02, -2.3367e-03, -1.8681e-03, -2.5293e-03, -2.0767e-01,\n",
              "           -4.1992e-01, -1.1091e-01, -2.1684e-19],\n",
              "          [-7.8660e-01,  1.2846e-01, -2.0443e-01, -2.3542e-01,  1.0323e-01,\n",
              "            1.7096e-01, -8.2868e-02,  0.0000e+00],\n",
              "          [ 6.4309e-01, -5.7468e-01,  2.2275e-03, -7.6060e-01,  4.2353e-01,\n",
              "           -8.9051e-01, -5.5710e-01, -5.5511e-17],\n",
              "          [-6.9542e-01, -7.9150e-01,  2.1364e-01,  8.1259e-01,  6.1270e-01,\n",
              "            1.3937e+00,  2.5285e-01,  0.0000e+00],\n",
              "          [-3.7957e-03,  3.6818e-02, -1.6349e-02,  1.5726e-02,  1.0950e+00,\n",
              "            7.4944e-01, -8.0047e-01,  1.7347e-18]]], grad_fn=<ViewBackward0>),\n",
              " tensor([[[-9.9657e-02,  8.8615e-02,  4.2689e-02,  6.4706e-02,  1.3100e-18,\n",
              "           -2.8584e-18,  1.8734e-18, -5.0207e-18],\n",
              "          [ 9.4359e-02, -3.8074e-02,  5.5783e-02, -5.5045e-02, -5.2679e-19,\n",
              "           -3.0456e-18,  3.8511e-18,  2.7992e-17],\n",
              "          [-3.0863e-01, -1.2045e-01,  1.0775e-01,  2.2763e-01, -8.6052e-19,\n",
              "            1.1055e-18, -1.9885e-17, -4.8845e-18],\n",
              "          [-1.0193e-01,  3.4161e-01, -1.7653e-02,  9.6752e-01,  4.1860e-18,\n",
              "           -3.1028e-18, -7.7030e-19, -8.9964e-18],\n",
              "          [ 3.1633e-01, -8.6709e-02, -7.9784e-03,  3.7707e-02,  6.0140e-18,\n",
              "            1.0668e-17, -2.9706e-18,  6.6626e-17],\n",
              "          [ 1.8632e-03,  7.3516e-02,  1.5043e-01, -5.7786e-01,  1.0568e-18,\n",
              "            5.3002e-18,  3.0773e-18, -4.0805e-18],\n",
              "          [ 1.1876e+00,  8.5845e-03, -1.3210e-01, -5.9127e-02,  1.5359e-18,\n",
              "           -3.8799e-18, -1.2772e-18,  1.7300e-16],\n",
              "          [-1.8567e+00, -3.8080e-01,  6.0721e-02, -2.6701e-01,  3.3655e-19,\n",
              "            7.9557e-19, -1.3304e-18,  5.1711e-17],\n",
              "          [ 1.3894e-01, -3.5404e-02, -3.1898e-02, -5.1950e-02,  6.8364e-02,\n",
              "            5.3259e-02, -5.2329e-02, -1.6374e-19],\n",
              "          [-1.9255e-02, -7.7433e-02,  6.6369e-01, -3.1104e-01,  2.4221e-01,\n",
              "           -4.5088e-02, -5.8646e-01,  6.0351e-18],\n",
              "          [-2.5806e-01,  8.4445e-02, -5.8037e-02, -4.3429e-01, -4.7940e-02,\n",
              "            5.8237e-02, -2.8657e-01,  3.6160e-17],\n",
              "          [-4.9905e-02, -2.3367e-03, -1.8681e-03, -2.5293e-03, -2.0767e-01,\n",
              "           -4.1992e-01, -1.1091e-01,  1.9796e-17],\n",
              "          [-7.8660e-01,  1.2846e-01, -2.0443e-01, -2.3542e-01,  1.0323e-01,\n",
              "            1.7096e-01, -8.2868e-02, -8.1666e-17],\n",
              "          [ 6.4309e-01, -5.7468e-01,  2.2275e-03, -7.6060e-01,  4.2353e-01,\n",
              "           -8.9051e-01, -5.5710e-01,  1.7439e-17],\n",
              "          [-6.9542e-01, -7.9150e-01,  2.1364e-01,  8.1259e-01,  6.1270e-01,\n",
              "            1.3937e+00,  2.5285e-01, -1.2811e-17],\n",
              "          [-3.7957e-03,  3.6818e-02, -1.6349e-02,  1.5726e-02,  1.0950e+00,\n",
              "            7.4944e-01, -8.0047e-01, -1.8908e-18]]], grad_fn=<ViewBackward0>))"
            ]
          },
          "execution_count": 69,
          "metadata": {},
          "output_type": "execute_result"
        }
      ],
      "source": [
        "algebra.rho(v, output), output_v"
      ]
    },
    {
      "cell_type": "code",
      "execution_count": 70,
      "metadata": {
        "colab": {
          "base_uri": "https://localhost:8080/",
          "height": 486
        },
        "id": "yYSXIk-VbdIZ",
        "outputId": "7fdf0785-02eb-4455-d358-fadb87aea5cc"
      },
      "outputs": [
        {
          "data": {
            "image/png": "[encoded data removed]",
            "text/plain": [
              "<Figure size 640x480 with 4 Axes>"
            ]
          },
          "metadata": {},
          "output_type": "display_data"
        }
      ],
      "source": [
        "# Labels\n",
        "x = ['$1$', '$e_1$', '$e_2$', '$e_3$', '$e_{12}$', '$e_{13}$', '$e_{23}$', '$e_{123}$']\n",
        "fig, axes = plt.subplots(nrows=2, ncols=2)\n",
        "\n",
        "# First bar chart (top left)\n",
        "axes[0, 0].bar(x, input_R[0, :].mean(0).detach(), color=['red', 'green', 'green', 'green', 'blue' , 'blue', 'blue', 'yellow'])\n",
        "axes[0, 0].set_title(r\"$\\tilde{ad}_T(x)$\")\n",
        "\n",
        "# Second bar chart (top right)\n",
        "axes[0, 1].bar(x, qt_gp(input)[0].mean(0).detach(), color=['red', 'green', 'green', 'green', 'blue' , 'blue', 'blue', 'yellow'])\n",
        "axes[0, 1].set_title(r\"$\\phi(x)$\")\n",
        "\n",
        "# Third bar chart (bottom left)\n",
        "axes[1, 0].bar(x, algebra.rho(R, output).detach()[0, 0], color=['red', 'green', 'green', 'green', 'blue' , 'blue', 'blue', 'yellow'])\n",
        "axes[1, 0].set_title(r\"$\\phi(\\tilde{ad}_T(x))$\")\n",
        "\n",
        "# Fourth bar chart (bottom right)\n",
        "axes[1, 1].bar(x, output_R.detach()[0, 0], color=['red', 'green', 'green', 'green', 'blue' , 'blue', 'blue', 'yellow'])\n",
        "axes[1, 1].set_title(r\"$\\tilde{ad}_T(\\phi(x))$\")\n",
        "\n",
        "plt.tight_layout()\n",
        "plt.show()"
      ]
    },
    {
      "cell_type": "markdown",
      "metadata": {
        "id": "UAN2kyg6QtEE"
      },
      "source": [
        "Check equivariance of `QTLinear` layer:"
      ]
    },
    {
      "cell_type": "code",
      "execution_count": 71,
      "metadata": {
        "id": "Ls_XDvgIQtEF"
      },
      "outputs": [],
      "source": [
        "output = qt_linear(input)\n",
        "output_v = qt_linear(input_v)\n",
        "output_R = qt_linear(input_R)\n",
        "\n",
        "assert torch.allclose(algebra.rho(v, output), output_v)\n",
        "assert torch.allclose(algebra.rho(R, output), output_R)"
      ]
    },
    {
      "cell_type": "markdown",
      "metadata": {
        "id": "VMwjMAunQtbr"
      },
      "source": [
        "Check equivariance of `QTNormalization` layer:"
      ]
    },
    {
      "cell_type": "code",
      "execution_count": 72,
      "metadata": {
        "id": "fgIUhLfiQtbr"
      },
      "outputs": [],
      "source": [
        "output = qt_norm(input)\n",
        "output_v = qt_norm(input_v)\n",
        "output_R = qt_norm(input_R)\n",
        "\n",
        "assert torch.allclose(algebra.rho(v, output), output_v)\n",
        "assert torch.allclose(algebra.rho(R, output), output_R)"
      ]
    }
  ],
  "metadata": {
    "colab": {
      "provenance": []
    },
    "kernelspec": {
      "display_name": "Python 3",
      "name": "python3"
    },
    "language_info": {
      "name": "python"
    }
  },
  "nbformat": 4,
  "nbformat_minor": 0
}
